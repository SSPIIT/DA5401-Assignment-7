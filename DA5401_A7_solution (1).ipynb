{
 "cells": [
  {
   "cell_type": "markdown",
   "id": "2eea9940",
   "metadata": {},
   "source": [
    "# DA5401 A7 — Multi-Class Model Selection using ROC and Precision-Recall Curves\n"
   ]
  },
  {
   "cell_type": "code",
   "execution_count": 15,
   "id": "989b764e",
   "metadata": {},
   "outputs": [],
   "source": [
    "import os\n",
    "import sys\n",
    "import numpy as np\n",
    "import pandas as pd\n",
    "import matplotlib.pyplot as plt\n",
    "from sklearn.preprocessing import StandardScaler\n",
    "from sklearn.model_selection import train_test_split"
   ]
  },
  {
   "cell_type": "markdown",
   "id": "5842678e",
   "metadata": {},
   "source": [
    "## Data loading and preparation\n",
    "\n",
    "This dataset is provided as `sat.trn` and `sat.tst`. The last column is the class label. We will discard samples belonging to the 'all types present' class if present (commonly label 7). "
   ]
  },
  {
   "cell_type": "code",
   "execution_count": 16,
   "id": "7a2a00c9",
   "metadata": {},
   "outputs": [
    {
     "name": "stderr",
     "output_type": "stream",
     "text": [
      "/tmp/ipykernel_3903/659666713.py:1: FutureWarning: The 'delim_whitespace' keyword in pd.read_csv is deprecated and will be removed in a future version. Use ``sep='\\s+'`` instead\n",
      "  df_train = pd.read_csv(\"sat.trn\", delim_whitespace=True, header=None)\n",
      "/tmp/ipykernel_3903/659666713.py:2: FutureWarning: The 'delim_whitespace' keyword in pd.read_csv is deprecated and will be removed in a future version. Use ``sep='\\s+'`` instead\n",
      "  df_test = pd.read_csv(\"sat.tst\", delim_whitespace=True, header=None)\n"
     ]
    }
   ],
   "source": [
    "df_train = pd.read_csv(\"sat.trn\", delim_whitespace=True, header=None)\n",
    "df_test = pd.read_csv(\"sat.tst\", delim_whitespace=True, header=None)\n",
    "\n",
    "df = pd.concat([df_train, df_test], ignore_index=True)\n"
   ]
  },
  {
   "cell_type": "code",
   "execution_count": 17,
   "id": "0e11fa00-de45-49ea-b00d-cc6dc2406a55",
   "metadata": {},
   "outputs": [
    {
     "data": {
      "text/plain": [
       "(6435, 37)"
      ]
     },
     "execution_count": 17,
     "metadata": {},
     "output_type": "execute_result"
    }
   ],
   "source": [
    "df.shape"
   ]
  },
  {
   "cell_type": "code",
   "execution_count": 18,
   "id": "71c91af0-8b5f-425e-b586-de4299463d8f",
   "metadata": {},
   "outputs": [
    {
     "data": {
      "text/html": [
       "<div>\n",
       "<style scoped>\n",
       "    .dataframe tbody tr th:only-of-type {\n",
       "        vertical-align: middle;\n",
       "    }\n",
       "\n",
       "    .dataframe tbody tr th {\n",
       "        vertical-align: top;\n",
       "    }\n",
       "\n",
       "    .dataframe thead th {\n",
       "        text-align: right;\n",
       "    }\n",
       "</style>\n",
       "<table border=\"1\" class=\"dataframe\">\n",
       "  <thead>\n",
       "    <tr style=\"text-align: right;\">\n",
       "      <th></th>\n",
       "      <th>0</th>\n",
       "      <th>1</th>\n",
       "      <th>2</th>\n",
       "      <th>3</th>\n",
       "      <th>4</th>\n",
       "      <th>5</th>\n",
       "      <th>6</th>\n",
       "      <th>7</th>\n",
       "      <th>8</th>\n",
       "      <th>9</th>\n",
       "      <th>...</th>\n",
       "      <th>27</th>\n",
       "      <th>28</th>\n",
       "      <th>29</th>\n",
       "      <th>30</th>\n",
       "      <th>31</th>\n",
       "      <th>32</th>\n",
       "      <th>33</th>\n",
       "      <th>34</th>\n",
       "      <th>35</th>\n",
       "      <th>36</th>\n",
       "    </tr>\n",
       "  </thead>\n",
       "  <tbody>\n",
       "    <tr>\n",
       "      <th>0</th>\n",
       "      <td>92</td>\n",
       "      <td>115</td>\n",
       "      <td>120</td>\n",
       "      <td>94</td>\n",
       "      <td>84</td>\n",
       "      <td>102</td>\n",
       "      <td>106</td>\n",
       "      <td>79</td>\n",
       "      <td>84</td>\n",
       "      <td>102</td>\n",
       "      <td>...</td>\n",
       "      <td>104</td>\n",
       "      <td>88</td>\n",
       "      <td>121</td>\n",
       "      <td>128</td>\n",
       "      <td>100</td>\n",
       "      <td>84</td>\n",
       "      <td>107</td>\n",
       "      <td>113</td>\n",
       "      <td>87</td>\n",
       "      <td>3</td>\n",
       "    </tr>\n",
       "  </tbody>\n",
       "</table>\n",
       "<p>1 rows × 37 columns</p>\n",
       "</div>"
      ],
      "text/plain": [
       "   0    1    2   3   4    5    6   7   8    9   ...   27  28   29   30   31  \\\n",
       "0  92  115  120  94  84  102  106  79  84  102  ...  104  88  121  128  100   \n",
       "\n",
       "   32   33   34  35  36  \n",
       "0  84  107  113  87   3  \n",
       "\n",
       "[1 rows x 37 columns]"
      ]
     },
     "execution_count": 18,
     "metadata": {},
     "output_type": "execute_result"
    }
   ],
   "source": [
    "df.head(1)"
   ]
  },
  {
   "cell_type": "code",
   "execution_count": 19,
   "id": "94482dc5-33ef-4208-a1d2-c5bee7abc925",
   "metadata": {},
   "outputs": [],
   "source": [
    "X = df.iloc[:, :-1].values\n",
    "y = df.iloc[:, -1].astype(int).values"
   ]
  },
  {
   "cell_type": "code",
   "execution_count": 20,
   "id": "8b8b635d-7600-4ceb-bb7c-450d0773a521",
   "metadata": {},
   "outputs": [
    {
     "data": {
      "text/plain": [
       "array([1, 2, 3, 4, 5, 7])"
      ]
     },
     "execution_count": 20,
     "metadata": {},
     "output_type": "execute_result"
    }
   ],
   "source": [
    "np.unique(y)"
   ]
  },
  {
   "cell_type": "code",
   "execution_count": 21,
   "id": "dd209a6a-a5cd-4e4d-975b-5dd788244f3c",
   "metadata": {},
   "outputs": [],
   "source": [
    "mask = y != 7\n",
    "X, y = X[mask], y[mask]"
   ]
  },
  {
   "cell_type": "code",
   "execution_count": 22,
   "id": "6ed93ccf-badd-4202-82fe-a2b946dcdec0",
   "metadata": {},
   "outputs": [
    {
     "data": {
      "text/plain": [
       "(4927, 36)"
      ]
     },
     "execution_count": 22,
     "metadata": {},
     "output_type": "execute_result"
    }
   ],
   "source": [
    "X.shape"
   ]
  },
  {
   "cell_type": "code",
   "execution_count": 23,
   "id": "e7daaf43-af23-405f-866f-2cfeb9a517e7",
   "metadata": {},
   "outputs": [],
   "source": [
    "scaler = StandardScaler()\n",
    "X_scaled = scaler.fit_transform(X)"
   ]
  },
  {
   "cell_type": "code",
   "execution_count": 24,
   "id": "9f9dc142-67f8-4705-ac02-8e5496fc1aa1",
   "metadata": {},
   "outputs": [],
   "source": [
    "X_train, X_test, y_train, y_test = train_test_split(X_scaled, y, test_size=0.25, stratify=y, random_state=42)"
   ]
  },
  {
   "cell_type": "code",
   "execution_count": 25,
   "id": "edcdb3f3-1a27-4f57-b2ac-d4cb41ba50db",
   "metadata": {},
   "outputs": [
    {
     "data": {
      "text/plain": [
       "5"
      ]
     },
     "execution_count": 25,
     "metadata": {},
     "output_type": "execute_result"
    }
   ],
   "source": [
    "classes = np.unique(y_train)\n",
    "n_classes = len(classes)\n",
    "n_classes"
   ]
  },
  {
   "cell_type": "markdown",
   "id": "5cec91e3",
   "metadata": {},
   "source": [
    "## Part A: Train baseline models\n",
    "\n",
    "We will train: KNN, Decision Tree, Dummy (prior), Logistic Regression, GaussianNB, and SVC (with probability=True). We'll collect predictions and prediction probabilities for each model for later ROC/PRC analyses."
   ]
  },
  {
   "cell_type": "code",
   "execution_count": 26,
   "id": "b2b291f1-b048-4516-ae3d-6fdf58b8a2a3",
   "metadata": {},
   "outputs": [],
   "source": [
    "y_proba = {}   # for predicted probabilities\n",
    "y_pred = {}    # for predicted classes"
   ]
  },
  {
   "cell_type": "code",
   "execution_count": 27,
   "id": "3ef9f070",
   "metadata": {},
   "outputs": [
    {
     "name": "stdout",
     "output_type": "stream",
     "text": [
      "KNN → Accuracy: 0.9359, Weighted F1: 0.9353\n"
     ]
    }
   ],
   "source": [
    "from sklearn.neighbors import KNeighborsClassifier\n",
    "from sklearn.metrics import accuracy_score, f1_score\n",
    "\n",
    "knn = KNeighborsClassifier(n_neighbors=5)\n",
    "knn.fit(X_train, y_train)\n",
    "y_pred_knn = knn.predict(X_test)\n",
    "y_proba_knn = knn.predict_proba(X_test)\n",
    "\n",
    "acc_knn = accuracy_score(y_test, y_pred_knn)\n",
    "f1_knn = f1_score(y_test, y_pred_knn, average='weighted')\n",
    "\n",
    "y_pred[\"KNN\"] = y_pred_knn\n",
    "y_proba[\"KNN\"] = y_proba_knn\n",
    "\n",
    "print(f\"KNN → Accuracy: {acc_knn:.4f}, Weighted F1: {f1_knn:.4f}\")"
   ]
  },
  {
   "cell_type": "code",
   "execution_count": 28,
   "id": "44f6a1f9-37a4-40ab-93fd-6c08cee74837",
   "metadata": {},
   "outputs": [
    {
     "name": "stdout",
     "output_type": "stream",
     "text": [
      "Decision Tree → Accuracy: 0.8994, Weighted F1: 0.8988\n"
     ]
    }
   ],
   "source": [
    "from sklearn.tree import DecisionTreeClassifier\n",
    "\n",
    "dt = DecisionTreeClassifier(random_state=0)\n",
    "dt.fit(X_train, y_train)\n",
    "y_pred_dt = dt.predict(X_test)\n",
    "y_proba_dt = dt.predict_proba(X_test)\n",
    "\n",
    "acc_dt = accuracy_score(y_test, y_pred_dt)\n",
    "f1_dt = f1_score(y_test, y_pred_dt, average='weighted')\n",
    "\n",
    "y_pred[\"DT\"] = y_pred_dt\n",
    "y_proba[\"DT\"] = y_proba_dt\n",
    "\n",
    "print(f\"Decision Tree → Accuracy: {acc_dt:.4f}, Weighted F1: {f1_dt:.4f}\")\n"
   ]
  },
  {
   "cell_type": "code",
   "execution_count": 29,
   "id": "3482992e-c2df-4e84-9ce4-0e73b1354b9e",
   "metadata": {},
   "outputs": [
    {
     "name": "stdout",
     "output_type": "stream",
     "text": [
      "Dummy (Prior) → Accuracy: 0.3109, Weighted F1: 0.1474\n"
     ]
    }
   ],
   "source": [
    "from sklearn.dummy import DummyClassifier\n",
    "\n",
    "dummy = DummyClassifier(strategy='prior', random_state=0)\n",
    "dummy.fit(X_train, y_train)\n",
    "y_pred_dummy = dummy.predict(X_test)\n",
    "y_proba_dummy = dummy.predict_proba(X_test)\n",
    "\n",
    "acc_dummy = accuracy_score(y_test, y_pred_dummy)\n",
    "f1_dummy = f1_score(y_test, y_pred_dummy, average='weighted')\n",
    "\n",
    "y_pred[\"DUMMY\"] = y_pred_dummy\n",
    "y_proba[\"DUMMY\"] = y_proba_dummy\n",
    "\n",
    "print(f\"Dummy (Prior) → Accuracy: {acc_dummy:.4f}, Weighted F1: {f1_dummy:.4f}\")"
   ]
  },
  {
   "cell_type": "code",
   "execution_count": 30,
   "id": "d8f67a86-e9e3-42fb-b74a-21f208ad69d8",
   "metadata": {},
   "outputs": [
    {
     "name": "stdout",
     "output_type": "stream",
     "text": [
      "Logistic Regression → Accuracy: 0.8904, Weighted F1: 0.8850\n"
     ]
    },
    {
     "name": "stderr",
     "output_type": "stream",
     "text": [
      "/home/swara/jupyter_env/lib/python3.12/site-packages/sklearn/linear_model/_logistic.py:1281: FutureWarning: 'multi_class' was deprecated in version 1.5 and will be removed in 1.8. Use OneVsRestClassifier(LogisticRegression(..)) instead. Leave it to its default value to avoid this warning.\n",
      "  warnings.warn(\n",
      "/home/swara/jupyter_env/lib/python3.12/site-packages/sklearn/linear_model/_logistic.py:1296: FutureWarning: Using the 'liblinear' solver for multiclass classification is deprecated. An error will be raised in 1.8. Either use another solver which supports the multinomial loss or wrap the estimator in a OneVsRestClassifier to keep applying a one-versus-rest scheme.\n",
      "  warnings.warn(\n"
     ]
    }
   ],
   "source": [
    "from sklearn.linear_model import LogisticRegression\n",
    "\n",
    "logreg = LogisticRegression(max_iter=1000, multi_class='ovr', solver='liblinear')\n",
    "logreg.fit(X_train, y_train)\n",
    "y_pred_log = logreg.predict(X_test)\n",
    "y_proba_log = logreg.predict_proba(X_test)\n",
    "\n",
    "acc_log = accuracy_score(y_test, y_pred_log)\n",
    "f1_log = f1_score(y_test, y_pred_log, average='weighted')\n",
    "\n",
    "y_pred[\"LOG\"] = y_pred_log\n",
    "y_proba[\"LOG\"] = y_proba_log\n",
    "\n",
    "print(f\"Logistic Regression → Accuracy: {acc_log:.4f}, Weighted F1: {f1_log:.4f}\")"
   ]
  },
  {
   "cell_type": "code",
   "execution_count": 31,
   "id": "cace869b-d5c0-483f-8866-af2cc5a1af41",
   "metadata": {},
   "outputs": [
    {
     "name": "stdout",
     "output_type": "stream",
     "text": [
      "GaussianNB → Accuracy: 0.8369, Weighted F1: 0.8403\n"
     ]
    }
   ],
   "source": [
    "from sklearn.naive_bayes import GaussianNB\n",
    "\n",
    "nb = GaussianNB()\n",
    "nb.fit(X_train, y_train)\n",
    "y_pred_nb = nb.predict(X_test)\n",
    "y_proba_nb = nb.predict_proba(X_test)\n",
    "\n",
    "acc_nb = accuracy_score(y_test, y_pred_nb)\n",
    "f1_nb = f1_score(y_test, y_pred_nb, average='weighted')\n",
    "\n",
    "y_pred[\"NB\"] = y_pred_nb\n",
    "y_proba[\"NB\"] = y_proba_nb\n",
    "\n",
    "print(f\"GaussianNB → Accuracy: {acc_nb:.4f}, Weighted F1: {f1_nb:.4f}\")"
   ]
  },
  {
   "cell_type": "code",
   "execution_count": 32,
   "id": "693038a9-0c21-4d49-9450-1fed584de59d",
   "metadata": {},
   "outputs": [
    {
     "name": "stdout",
     "output_type": "stream",
     "text": [
      "SVC → Accuracy: 0.9286, Weighted F1: 0.9272\n"
     ]
    }
   ],
   "source": [
    "from sklearn.svm import SVC\n",
    "\n",
    "svc = SVC(probability=True, kernel='rbf', random_state=0)\n",
    "svc.fit(X_train, y_train)\n",
    "y_pred_svc = svc.predict(X_test)\n",
    "y_proba_svc = svc.predict_proba(X_test)\n",
    "\n",
    "acc_svc = accuracy_score(y_test, y_pred_svc)\n",
    "f1_svc = f1_score(y_test, y_pred_svc, average='weighted')\n",
    "\n",
    "y_pred[\"SVC\"] = y_pred_svc\n",
    "y_proba[\"SVC\"] = y_proba_svc\n",
    "\n",
    "print(f\"SVC → Accuracy: {acc_svc:.4f}, Weighted F1: {f1_svc:.4f}\")"
   ]
  },
  {
   "cell_type": "code",
   "execution_count": 33,
   "id": "4ef07c5a-3e24-43e9-84e1-b4920257d546",
   "metadata": {},
   "outputs": [
    {
     "data": {
      "text/html": [
       "<div>\n",
       "<style scoped>\n",
       "    .dataframe tbody tr th:only-of-type {\n",
       "        vertical-align: middle;\n",
       "    }\n",
       "\n",
       "    .dataframe tbody tr th {\n",
       "        vertical-align: top;\n",
       "    }\n",
       "\n",
       "    .dataframe thead th {\n",
       "        text-align: right;\n",
       "    }\n",
       "</style>\n",
       "<table border=\"1\" class=\"dataframe\">\n",
       "  <thead>\n",
       "    <tr style=\"text-align: right;\">\n",
       "      <th></th>\n",
       "      <th>Model</th>\n",
       "      <th>Accuracy</th>\n",
       "      <th>Weighted_F1</th>\n",
       "    </tr>\n",
       "  </thead>\n",
       "  <tbody>\n",
       "    <tr>\n",
       "      <th>0</th>\n",
       "      <td>KNN</td>\n",
       "      <td>0.935877</td>\n",
       "      <td>0.935332</td>\n",
       "    </tr>\n",
       "    <tr>\n",
       "      <th>1</th>\n",
       "      <td>SVC</td>\n",
       "      <td>0.928571</td>\n",
       "      <td>0.927226</td>\n",
       "    </tr>\n",
       "    <tr>\n",
       "      <th>2</th>\n",
       "      <td>DT</td>\n",
       "      <td>0.899351</td>\n",
       "      <td>0.898790</td>\n",
       "    </tr>\n",
       "    <tr>\n",
       "      <th>3</th>\n",
       "      <td>LOG</td>\n",
       "      <td>0.890422</td>\n",
       "      <td>0.884984</td>\n",
       "    </tr>\n",
       "    <tr>\n",
       "      <th>4</th>\n",
       "      <td>NB</td>\n",
       "      <td>0.836851</td>\n",
       "      <td>0.840265</td>\n",
       "    </tr>\n",
       "    <tr>\n",
       "      <th>5</th>\n",
       "      <td>DUMMY</td>\n",
       "      <td>0.310877</td>\n",
       "      <td>0.147450</td>\n",
       "    </tr>\n",
       "  </tbody>\n",
       "</table>\n",
       "</div>"
      ],
      "text/plain": [
       "   Model  Accuracy  Weighted_F1\n",
       "0    KNN  0.935877     0.935332\n",
       "1    SVC  0.928571     0.927226\n",
       "2     DT  0.899351     0.898790\n",
       "3    LOG  0.890422     0.884984\n",
       "4     NB  0.836851     0.840265\n",
       "5  DUMMY  0.310877     0.147450"
      ]
     },
     "execution_count": 33,
     "metadata": {},
     "output_type": "execute_result"
    }
   ],
   "source": [
    "metrics_results = pd.DataFrame({\n",
    "    'Model': ['KNN', 'DT', 'DUMMY', 'LOG', 'NB', 'SVC'],\n",
    "    'Accuracy': [acc_knn, acc_dt, acc_dummy, acc_log, acc_nb, acc_svc],\n",
    "    'Weighted_F1': [f1_knn, f1_dt, f1_dummy, f1_log, f1_nb, f1_svc]\n",
    "})\n",
    "\n",
    "metrics_results.sort_values(by='Weighted_F1', ascending=False).reset_index(drop=True)"
   ]
  },
  {
   "cell_type": "markdown",
   "id": "27fd9722-30fd-4b57-9b2d-2ed236f8a6c1",
   "metadata": {},
   "source": [
    "### Observations\n",
    "\n",
    "KNN achieved the highest accuracy and weighted F1-score, followed closely by SVC, indicating both models handle the dataset’s complexity well.  \n",
    "Decision Tree performed moderately, while Logistic Regression was slightly weaker due to its linear nature.  \n",
    "GaussianNB showed limited performance because of its independence assumption, and Dummy Classifier performed poorly as expected, serving as a baseline.  \n",
    "Overall, non-linear models like KNN and SVC are better suited for this dataset.\n"
   ]
  },
  {
   "cell_type": "code",
   "execution_count": 34,
   "id": "c6ce8e8d-8373-4098-8639-49fc1582f477",
   "metadata": {},
   "outputs": [
    {
     "data": {
      "text/plain": [
       "{'KNN': array([5, 2, 1, ..., 1, 3, 3], shape=(1232,)),\n",
       " 'DT': array([1, 2, 1, ..., 1, 3, 3], shape=(1232,)),\n",
       " 'DUMMY': array([1, 1, 1, ..., 1, 1, 1], shape=(1232,)),\n",
       " 'LOG': array([2, 2, 1, ..., 1, 3, 3], shape=(1232,)),\n",
       " 'NB': array([1, 2, 5, ..., 1, 3, 3], shape=(1232,)),\n",
       " 'SVC': array([5, 2, 1, ..., 1, 3, 3], shape=(1232,))}"
      ]
     },
     "execution_count": 34,
     "metadata": {},
     "output_type": "execute_result"
    }
   ],
   "source": [
    "y_pred"
   ]
  },
  {
   "cell_type": "code",
   "execution_count": 35,
   "id": "be755d25-03db-44c6-88da-6c7f9eca6d11",
   "metadata": {},
   "outputs": [
    {
     "data": {
      "text/plain": [
       "{'KNN': array([[0., 0., 0., 0., 1.],\n",
       "        [0., 1., 0., 0., 0.],\n",
       "        [1., 0., 0., 0., 0.],\n",
       "        ...,\n",
       "        [1., 0., 0., 0., 0.],\n",
       "        [0., 0., 1., 0., 0.],\n",
       "        [0., 0., 1., 0., 0.]], shape=(1232, 5)),\n",
       " 'DT': array([[1., 0., 0., 0., 0.],\n",
       "        [0., 1., 0., 0., 0.],\n",
       "        [1., 0., 0., 0., 0.],\n",
       "        ...,\n",
       "        [1., 0., 0., 0., 0.],\n",
       "        [0., 0., 1., 0., 0.],\n",
       "        [0., 0., 1., 0., 0.]], shape=(1232, 5)),\n",
       " 'DUMMY': array([[0.31123139, 0.14262517, 0.27550744, 0.12719892, 0.14343708],\n",
       "        [0.31123139, 0.14262517, 0.27550744, 0.12719892, 0.14343708],\n",
       "        [0.31123139, 0.14262517, 0.27550744, 0.12719892, 0.14343708],\n",
       "        ...,\n",
       "        [0.31123139, 0.14262517, 0.27550744, 0.12719892, 0.14343708],\n",
       "        [0.31123139, 0.14262517, 0.27550744, 0.12719892, 0.14343708],\n",
       "        [0.31123139, 0.14262517, 0.27550744, 0.12719892, 0.14343708]],\n",
       "       shape=(1232, 5)),\n",
       " 'LOG': array([[3.13625594e-03, 6.97226285e-01, 6.10304430e-02, 1.66589474e-04,\n",
       "         2.38440427e-01],\n",
       "        [9.07760447e-04, 9.87757539e-01, 4.25645774e-06, 5.38373037e-13,\n",
       "         1.13304437e-02],\n",
       "        [8.95604336e-01, 4.20929534e-04, 3.20853621e-05, 6.79801116e-02,\n",
       "         3.59625376e-02],\n",
       "        ...,\n",
       "        [9.87136293e-01, 1.56919044e-03, 8.36506059e-04, 6.23482474e-03,\n",
       "         4.22318569e-03],\n",
       "        [7.36656931e-04, 9.00470047e-03, 8.93344491e-01, 8.96338224e-02,\n",
       "         7.28032926e-03],\n",
       "        [6.42473320e-04, 6.28485377e-03, 9.23063883e-01, 6.63504919e-02,\n",
       "         3.65829837e-03]], shape=(1232, 5)),\n",
       " 'NB': array([[1.00000000e+000, 2.34028584e-020, 4.75159715e-037,\n",
       "         9.05922391e-017, 5.71394468e-011],\n",
       "        [2.57833505e-085, 1.00000000e+000, 4.58682500e-295,\n",
       "         1.72828508e-240, 1.20007699e-063],\n",
       "        [3.29608759e-003, 2.35706370e-023, 8.96967838e-066,\n",
       "         1.92495292e-013, 9.96703912e-001],\n",
       "        ...,\n",
       "        [9.99999467e-001, 6.38017709e-031, 3.33106649e-030,\n",
       "         5.32889868e-007, 1.90247168e-012],\n",
       "        [3.40949174e-029, 3.34361660e-087, 1.00000000e+000,\n",
       "         1.21311351e-029, 1.08847417e-068],\n",
       "        [8.52358380e-028, 2.52529466e-084, 1.00000000e+000,\n",
       "         4.72185807e-027, 1.42015037e-065]], shape=(1232, 5)),\n",
       " 'SVC': array([[1.84435843e-03, 8.36565747e-03, 2.07245197e-04, 2.08559189e-03,\n",
       "         9.87497147e-01],\n",
       "        [1.80207812e-03, 9.88746708e-01, 2.76638245e-03, 3.06517468e-03,\n",
       "         3.61965682e-03],\n",
       "        [9.98221217e-01, 1.85134121e-04, 2.39735862e-04, 4.39937825e-04,\n",
       "         9.13975197e-04],\n",
       "        ...,\n",
       "        [9.72841260e-01, 1.07072910e-03, 5.58555108e-04, 1.87381429e-03,\n",
       "         2.36556411e-02],\n",
       "        [3.12347401e-04, 1.89877844e-04, 9.76380299e-01, 2.29320165e-02,\n",
       "         1.85459207e-04],\n",
       "        [5.24802872e-04, 2.98286062e-04, 9.69172690e-01, 2.97731462e-02,\n",
       "         2.31075004e-04]], shape=(1232, 5))}"
      ]
     },
     "execution_count": 35,
     "metadata": {},
     "output_type": "execute_result"
    }
   ],
   "source": [
    "y_proba"
   ]
  },
  {
   "cell_type": "markdown",
   "id": "ed696eb4",
   "metadata": {},
   "source": [
    "## Part B: ROC Analysis (OvR)\n",
    "\n",
    "We'll compute One-vs-Rest ROC curves for each model. For plotting a single representative curve per model we compute the macro-average AUC. "
   ]
  },
  {
   "cell_type": "code",
   "execution_count": 36,
   "id": "8cb3bfd5",
   "metadata": {},
   "outputs": [
    {
     "name": "stdout",
     "output_type": "stream",
     "text": [
      "Binarized test labels shape: (1232, 5)\n"
     ]
    }
   ],
   "source": [
    "from sklearn.preprocessing import label_binarize\n",
    "from sklearn.metrics import roc_curve, auc\n",
    "\n",
    "y_test_bin = label_binarize(y_test, classes=classes)\n",
    "\n",
    "if y_test_bin.shape[1] == 1:\n",
    "    y_test_bin = np.hstack([1 - y_test_bin, y_test_bin])\n",
    "\n",
    "print(\"Binarized test labels shape:\", y_test_bin.shape)"
   ]
  },
  {
   "cell_type": "code",
   "execution_count": 37,
   "id": "7236f37b-e81e-43f4-bcaa-6d405fc89825",
   "metadata": {},
   "outputs": [
    {
     "data": {
      "text/html": [
       "<div>\n",
       "<style scoped>\n",
       "    .dataframe tbody tr th:only-of-type {\n",
       "        vertical-align: middle;\n",
       "    }\n",
       "\n",
       "    .dataframe tbody tr th {\n",
       "        vertical-align: top;\n",
       "    }\n",
       "\n",
       "    .dataframe thead th {\n",
       "        text-align: right;\n",
       "    }\n",
       "</style>\n",
       "<table border=\"1\" class=\"dataframe\">\n",
       "  <thead>\n",
       "    <tr style=\"text-align: right;\">\n",
       "      <th></th>\n",
       "      <th>Model</th>\n",
       "      <th>Macro_AUC</th>\n",
       "    </tr>\n",
       "  </thead>\n",
       "  <tbody>\n",
       "    <tr>\n",
       "      <th>5</th>\n",
       "      <td>SVC</td>\n",
       "      <td>0.987209</td>\n",
       "    </tr>\n",
       "    <tr>\n",
       "      <th>0</th>\n",
       "      <td>KNN</td>\n",
       "      <td>0.985248</td>\n",
       "    </tr>\n",
       "    <tr>\n",
       "      <th>3</th>\n",
       "      <td>LOG</td>\n",
       "      <td>0.972015</td>\n",
       "    </tr>\n",
       "    <tr>\n",
       "      <th>4</th>\n",
       "      <td>NB</td>\n",
       "      <td>0.961413</td>\n",
       "    </tr>\n",
       "    <tr>\n",
       "      <th>1</th>\n",
       "      <td>DT</td>\n",
       "      <td>0.929071</td>\n",
       "    </tr>\n",
       "    <tr>\n",
       "      <th>2</th>\n",
       "      <td>DUMMY</td>\n",
       "      <td>0.500000</td>\n",
       "    </tr>\n",
       "  </tbody>\n",
       "</table>\n",
       "</div>"
      ],
      "text/plain": [
       "   Model  Macro_AUC\n",
       "5    SVC   0.987209\n",
       "0    KNN   0.985248\n",
       "3    LOG   0.972015\n",
       "4     NB   0.961413\n",
       "1     DT   0.929071\n",
       "2  DUMMY   0.500000"
      ]
     },
     "execution_count": 37,
     "metadata": {},
     "output_type": "execute_result"
    }
   ],
   "source": [
    "roc_results = []\n",
    "\n",
    "for name, probs in y_proba.items():\n",
    "    fpr, tpr = {}, {}\n",
    "    auc_values = []\n",
    "    for i in range(n_classes):\n",
    "        fpr[i], tpr[i], _ = roc_curve(y_test_bin[:, i], probs[:, i])\n",
    "        auc_values.append(auc(fpr[i], tpr[i]))\n",
    "    macro_auc = np.mean(auc_values)\n",
    "    roc_results.append((name, macro_auc))\n",
    "\n",
    "roc_df = pd.DataFrame(roc_results, columns=[\"Model\", \"Macro_AUC\"]).sort_values(by=\"Macro_AUC\", ascending=False)\n",
    "roc_df\n"
   ]
  },
  {
   "cell_type": "code",
   "execution_count": 38,
   "id": "78112ffd-b210-479e-9718-9da9f9594dd6",
   "metadata": {},
   "outputs": [
    {
     "data": {
      "image/png": "[encoded data removed]",
      "text/plain": [
       "<Figure size 800x600 with 1 Axes>"
      ]
     },
     "metadata": {},
     "output_type": "display_data"
    }
   ],
   "source": [
    "plt.figure(figsize=(8,6))\n",
    "\n",
    "for name, probs in y_proba.items():\n",
    "    fpr, tpr, _ = roc_curve(y_test_bin.ravel(), probs.ravel())\n",
    "    roc_auc_val = auc(fpr, tpr)\n",
    "    plt.plot(fpr, tpr, lw=1.8, label=f\"{name} (AUC={roc_auc_val:.3f})\")\n",
    "\n",
    "plt.plot([0,1], [0,1], 'k--', lw=1)\n",
    "plt.xlabel(\"False Positive Rate\")\n",
    "plt.ylabel(\"True Positive Rate\")\n",
    "plt.title(\"Multi-class ROC (One-vs-Rest)\")\n",
    "plt.legend(loc=\"lower right\")\n",
    "plt.grid(alpha=0.3)\n",
    "plt.show()"
   ]
  },
  {
   "cell_type": "markdown",
   "id": "7e01cd6e-7bf4-44b4-b40a-1fbb2c6dd3d3",
   "metadata": {},
   "source": [
    "### Observations and Interpretation\n",
    "\n",
    "SVC achieved the highest Macro-averaged AUC (0.987), closely followed by KNN (0.985), indicating both models separate the classes very effectively.  \n",
    "Logistic Regression and Naive Bayes perform reasonably well, while Decision Tree is slightly weaker.  \n",
    "The Dummy Classifier has an AUC of exactly 0.5, meaning it performs no better than random guessing and provides no useful discrimination.\n",
    "\n",
    "**Highest Macro-Averaged AUC:** SVC (0.987)  \n",
    "**Model with AUC < 0.5:** None, but the Dummy Classifier with AUC = 0.5 indicates random performance.  \n",
    "\n",
    "Conceptually, an AUC below 0.5 implies the model is worse than random—its predictions are effectively inverted or misleading due to poor learning or data–label misalignment.\n"
   ]
  },
  {
   "cell_type": "markdown",
   "id": "55fb683b",
   "metadata": {},
   "source": [
    "## Part C: Precision-Recall Curve (OvR)\n",
    "\n",
    "We compute Average Precision (AP) per model (macro-averaged) and plot curves for each model on a single plot. PRC is often more informative than ROC for imbalanced classes."
   ]
  },
  {
   "cell_type": "code",
   "execution_count": 39,
   "id": "2c2f8403-c921-4240-aaeb-fc9ecf5dc7c1",
   "metadata": {},
   "outputs": [
    {
     "data": {
      "text/html": [
       "<div>\n",
       "<style scoped>\n",
       "    .dataframe tbody tr th:only-of-type {\n",
       "        vertical-align: middle;\n",
       "    }\n",
       "\n",
       "    .dataframe tbody tr th {\n",
       "        vertical-align: top;\n",
       "    }\n",
       "\n",
       "    .dataframe thead th {\n",
       "        text-align: right;\n",
       "    }\n",
       "</style>\n",
       "<table border=\"1\" class=\"dataframe\">\n",
       "  <thead>\n",
       "    <tr style=\"text-align: right;\">\n",
       "      <th></th>\n",
       "      <th>Model</th>\n",
       "      <th>Macro_AP</th>\n",
       "    </tr>\n",
       "  </thead>\n",
       "  <tbody>\n",
       "    <tr>\n",
       "      <th>5</th>\n",
       "      <td>SVC</td>\n",
       "      <td>0.953536</td>\n",
       "    </tr>\n",
       "    <tr>\n",
       "      <th>0</th>\n",
       "      <td>KNN</td>\n",
       "      <td>0.948065</td>\n",
       "    </tr>\n",
       "    <tr>\n",
       "      <th>3</th>\n",
       "      <td>LOG</td>\n",
       "      <td>0.903463</td>\n",
       "    </tr>\n",
       "    <tr>\n",
       "      <th>4</th>\n",
       "      <td>NB</td>\n",
       "      <td>0.865106</td>\n",
       "    </tr>\n",
       "    <tr>\n",
       "      <th>1</th>\n",
       "      <td>DT</td>\n",
       "      <td>0.810892</td>\n",
       "    </tr>\n",
       "    <tr>\n",
       "      <th>2</th>\n",
       "      <td>DUMMY</td>\n",
       "      <td>0.200000</td>\n",
       "    </tr>\n",
       "  </tbody>\n",
       "</table>\n",
       "</div>"
      ],
      "text/plain": [
       "   Model  Macro_AP\n",
       "5    SVC  0.953536\n",
       "0    KNN  0.948065\n",
       "3    LOG  0.903463\n",
       "4     NB  0.865106\n",
       "1     DT  0.810892\n",
       "2  DUMMY  0.200000"
      ]
     },
     "execution_count": 39,
     "metadata": {},
     "output_type": "execute_result"
    }
   ],
   "source": [
    "from sklearn.metrics import precision_recall_curve, average_precision_score\n",
    "import numpy as np\n",
    "import pandas as pd\n",
    "\n",
    "macro_pr_summary = []      \n",
    "macro_pr_curves = {}       \n",
    "\n",
    "for name, probs in y_proba.items():\n",
    "    precision_dict, recall_dict = {}, {}\n",
    "    ap_values = []\n",
    "    for i in range(n_classes):\n",
    "        precision_dict[i], recall_dict[i], _ = precision_recall_curve(y_test_bin[:, i], probs[:, i])\n",
    "        ap_values.append(average_precision_score(y_test_bin[:, i], probs[:, i]))\n",
    "    mean_recall = np.linspace(0, 1, 100)\n",
    "    mean_precision = np.zeros_like(mean_recall)\n",
    "    for i in range(n_classes):\n",
    "        mean_precision += np.interp(mean_recall, recall_dict[i][::-1], precision_dict[i][::-1])\n",
    "    mean_precision /= n_classes\n",
    "\n",
    "    ap_macro = np.mean(ap_values)\n",
    "    macro_pr_summary.append((name, ap_macro))\n",
    "    macro_pr_curves[name] = (mean_recall, mean_precision)\n",
    "\n",
    "macro_pr_df = pd.DataFrame(macro_pr_summary, columns=[\"Model\", \"Macro_AP\"]).sort_values(by=\"Macro_AP\", ascending=False)\n",
    "macro_pr_df"
   ]
  },
  {
   "cell_type": "code",
   "execution_count": 40,
   "id": "64e6e51a-e996-46da-a866-82c9ddebb63b",
   "metadata": {},
   "outputs": [
    {
     "data": {
      "image/png": "[encoded data removed]",
      "text/plain": [
       "<Figure size 900x700 with 1 Axes>"
      ]
     },
     "metadata": {},
     "output_type": "display_data"
    }
   ],
   "source": [
    "import matplotlib.pyplot as plt\n",
    "\n",
    "plt.figure(figsize=(9,7))\n",
    "\n",
    "for name, (recall, precision) in macro_pr_curves.items():\n",
    "    ap_macro = macro_pr_df.loc[macro_pr_df[\"Model\"] == name, \"Macro_AP\"].values[0]\n",
    "    plt.plot(recall, precision, lw=2, label=f\"{name} (Macro AP={ap_macro:.3f})\")\n",
    "\n",
    "plt.xlabel(\"Recall\")\n",
    "plt.ylabel(\"Precision\")\n",
    "plt.title(\"Macro-Averaged Precision–Recall Curves — All Models\")\n",
    "plt.legend(loc=\"lower left\", fontsize=9)\n",
    "plt.grid(alpha=0.3)\n",
    "plt.show()"
   ]
  },
  {
   "cell_type": "markdown",
   "id": "dc630bb3-8b5a-4c91-b5d1-9ac4bd085751",
   "metadata": {},
   "source": [
    "### Observations and Interpretation\n",
    "\n",
    "SVC shows the highest Macro-averaged Average Precision (0.95), indicating it maintains strong precision even at high recall levels.  \n",
    "KNN also performs well, while Logistic Regression, Naive Bayes, and Decision Tree show moderate results with earlier drops in precision.  \n",
    "The Dummy Classifier performs the worst (AP 0.20), confirming it cannot separate classes meaningfully.\n",
    "\n",
    "**Model with Highest Average Precision (AP):** SVC (0.95)  \n",
    "**Worst-performing Model:** Dummy Classifier (AP 0.20)\n",
    "\n",
    "For poor models like the Dummy Classifier, the Precision–Recall curve drops sharply as recall increases because these models assign nearly random or constant probabilities.  \n",
    "As recall rises (by lowering the classification threshold), the model retrieves more instances, but most are incorrect, causing precision to fall rapidly.  \n",
    "This behavior reflects weak class discrimination and poor ranking of positive examples.\n"
   ]
  },
  {
   "cell_type": "markdown",
   "id": "bad5abc6",
   "metadata": {},
   "source": [
    "## Part D: Synthesis and Recommendation\n",
    "\n",
    "We will synthesize the rankings from weighted F1, ROC macro AUC, and PRC macro AP. "
   ]
  },
  {
   "cell_type": "code",
   "execution_count": 41,
   "id": "f2cd879e",
   "metadata": {},
   "outputs": [
    {
     "data": {
      "text/html": [
       "<div>\n",
       "<style scoped>\n",
       "    .dataframe tbody tr th:only-of-type {\n",
       "        vertical-align: middle;\n",
       "    }\n",
       "\n",
       "    .dataframe tbody tr th {\n",
       "        vertical-align: top;\n",
       "    }\n",
       "\n",
       "    .dataframe thead th {\n",
       "        text-align: right;\n",
       "    }\n",
       "</style>\n",
       "<table border=\"1\" class=\"dataframe\">\n",
       "  <thead>\n",
       "    <tr style=\"text-align: right;\">\n",
       "      <th></th>\n",
       "      <th>Model</th>\n",
       "      <th>Accuracy</th>\n",
       "      <th>Weighted_F1</th>\n",
       "      <th>Macro_AUC</th>\n",
       "      <th>Macro_AP</th>\n",
       "    </tr>\n",
       "  </thead>\n",
       "  <tbody>\n",
       "    <tr>\n",
       "      <th>5</th>\n",
       "      <td>SVC</td>\n",
       "      <td>0.928571</td>\n",
       "      <td>0.927226</td>\n",
       "      <td>0.987209</td>\n",
       "      <td>0.953536</td>\n",
       "    </tr>\n",
       "    <tr>\n",
       "      <th>0</th>\n",
       "      <td>KNN</td>\n",
       "      <td>0.935877</td>\n",
       "      <td>0.935332</td>\n",
       "      <td>0.985248</td>\n",
       "      <td>0.948065</td>\n",
       "    </tr>\n",
       "    <tr>\n",
       "      <th>3</th>\n",
       "      <td>LOG</td>\n",
       "      <td>0.890422</td>\n",
       "      <td>0.884984</td>\n",
       "      <td>0.972015</td>\n",
       "      <td>0.903463</td>\n",
       "    </tr>\n",
       "    <tr>\n",
       "      <th>4</th>\n",
       "      <td>NB</td>\n",
       "      <td>0.836851</td>\n",
       "      <td>0.840265</td>\n",
       "      <td>0.961413</td>\n",
       "      <td>0.865106</td>\n",
       "    </tr>\n",
       "    <tr>\n",
       "      <th>1</th>\n",
       "      <td>DT</td>\n",
       "      <td>0.899351</td>\n",
       "      <td>0.898790</td>\n",
       "      <td>0.929071</td>\n",
       "      <td>0.810892</td>\n",
       "    </tr>\n",
       "    <tr>\n",
       "      <th>2</th>\n",
       "      <td>DUMMY</td>\n",
       "      <td>0.310877</td>\n",
       "      <td>0.147450</td>\n",
       "      <td>0.500000</td>\n",
       "      <td>0.200000</td>\n",
       "    </tr>\n",
       "  </tbody>\n",
       "</table>\n",
       "</div>"
      ],
      "text/plain": [
       "   Model  Accuracy  Weighted_F1  Macro_AUC  Macro_AP\n",
       "5    SVC  0.928571     0.927226   0.987209  0.953536\n",
       "0    KNN  0.935877     0.935332   0.985248  0.948065\n",
       "3    LOG  0.890422     0.884984   0.972015  0.903463\n",
       "4     NB  0.836851     0.840265   0.961413  0.865106\n",
       "1     DT  0.899351     0.898790   0.929071  0.810892\n",
       "2  DUMMY  0.310877     0.147450   0.500000  0.200000"
      ]
     },
     "execution_count": 41,
     "metadata": {},
     "output_type": "execute_result"
    }
   ],
   "source": [
    "merged = metrics_results.merge(roc_df, on=\"Model\").merge(macro_pr_df, on=\"Model\")\n",
    "merged = merged.sort_values(by=\"Macro_AP\", ascending=False)\n",
    "merged[[\"Model\", \"Accuracy\", \"Weighted_F1\", \"Macro_AUC\", \"Macro_AP\"]]"
   ]
  },
  {
   "cell_type": "markdown",
   "id": "69465036-7b56-4905-b318-b8af2ff3964b",
   "metadata": {},
   "source": [
    "### Comparison and Final Recommendation\n",
    "\n",
    "The model rankings across metrics show strong overall alignment but with minor trade-offs.  \n",
    "Based on **Weighted F1**, **KNN** ranks first, followed closely by **SVC**.  \n",
    "However, **SVC** achieves the highest **Macro-AUC (0.987)** and **Macro-AP (0.954)**, indicating superior discrimination and consistency across thresholds.  \n",
    "Models like **Logistic Regression** and **Naive Bayes** perform reasonably well, while **Decision Tree** and **Dummy** lag behind on all metrics.\n",
    "\n",
    "While ROC-AUC measures the ability to distinguish between classes overall, PRC-AP focuses on the model’s performance under class imbalance—how well it maintains precision as recall increases.  \n",
    "A model may have a high AUC but a lower AP if it performs well on easy negatives yet struggles to maintain precision when recall rises (i.e., false positives increase).\n",
    "\n",
    "**Recommendation:**  \n",
    "Based on combined evaluation of Accuracy, F1, ROC-AUC, and PRC-AP, **SVC** is the best-performing model.  \n",
    "It achieves the strongest balance between precision and recall, maintains stable probability calibration across thresholds, and generalizes better than KNN, which, although slightly higher in accuracy, can be more sensitive to local noise and scaling.  \n",
    "Hence, **SVC** is the most reliable choice for this classification task.\n"
   ]
  },
  {
   "cell_type": "markdown",
   "id": "d352ab11",
   "metadata": {},
   "source": [
    "## Brownie Points: RandomForest, XGBoost, and an intentionally bad model\n",
    "\n",
    "We'll train RandomForest and XGBoost (if available). We'll also add a purposely bad model (random predictions) to demonstrate AUC < 0.5 behavior for some classes."
   ]
  },
  {
   "cell_type": "code",
   "execution_count": 42,
   "id": "137dbab1-e448-4988-9ce9-c4ca8a9e12c1",
   "metadata": {},
   "outputs": [
    {
     "name": "stdout",
     "output_type": "stream",
     "text": [
      "Requirement already satisfied: xgboost in /home/swara/jupyter_env/lib/python3.12/site-packages (3.1.1)\n",
      "Requirement already satisfied: numpy in /home/swara/jupyter_env/lib/python3.12/site-packages (from xgboost) (2.3.2)\n",
      "Requirement already satisfied: nvidia-nccl-cu12 in /home/swara/jupyter_env/lib/python3.12/site-packages (from xgboost) (2.28.7)\n",
      "Requirement already satisfied: scipy in /home/swara/jupyter_env/lib/python3.12/site-packages (from xgboost) (1.16.2)\n"
     ]
    }
   ],
   "source": [
    "!pip install xgboost"
   ]
  },
  {
   "cell_type": "code",
   "execution_count": 44,
   "id": "1ce54606",
   "metadata": {},
   "outputs": [
    {
     "name": "stdout",
     "output_type": "stream",
     "text": [
      "Random Forest → Accuracy: 0.9359, Weighted F1: 0.9346\n"
     ]
    }
   ],
   "source": [
    "from sklearn.ensemble import RandomForestClassifier\n",
    "\n",
    "rf = RandomForestClassifier(n_estimators=200, random_state=0)\n",
    "rf.fit(X_train, y_train)\n",
    "\n",
    "rf_pred = rf.predict(X_test)\n",
    "rf_proba = rf.predict_proba(X_test)\n",
    "\n",
    "rf_acc = accuracy_score(y_test, rf_pred)\n",
    "rf_f1 = f1_score(y_test, rf_pred, average='weighted')\n",
    "\n",
    "print(f\"Random Forest → Accuracy: {rf_acc:.4f}, Weighted F1: {rf_f1:.4f}\")"
   ]
  },
  {
   "cell_type": "code",
   "execution_count": 45,
   "id": "1822d162-72a3-424d-9b06-d2177db74c81",
   "metadata": {},
   "outputs": [
    {
     "name": "stderr",
     "output_type": "stream",
     "text": [
      "/home/swara/jupyter_env/lib/python3.12/site-packages/xgboost/training.py:199: UserWarning: [02:37:28] WARNING: /workspace/src/learner.cc:790: \n",
      "Parameters: { \"use_label_encoder\" } are not used.\n",
      "\n",
      "  bst.update(dtrain, iteration=i, fobj=obj)\n"
     ]
    },
    {
     "name": "stdout",
     "output_type": "stream",
     "text": [
      "XGBoost → Accuracy: 0.9343, Weighted F1: 0.9332\n"
     ]
    }
   ],
   "source": [
    "import xgboost as xgb\n",
    "\n",
    "y_train_xgb = y_train - y_train.min()\n",
    "y_test_xgb = y_test - y_test.min()\n",
    "\n",
    "xgb_clf = xgb.XGBClassifier(use_label_encoder=False, eval_metric='mlogloss', random_state=0)\n",
    "xgb_clf.fit(X_train, y_train_xgb)\n",
    "\n",
    "xgb_pred = xgb_clf.predict(X_test)\n",
    "xgb_proba = xgb_clf.predict_proba(X_test)\n",
    "\n",
    "xgb_acc = accuracy_score(y_test_xgb, xgb_pred)\n",
    "xgb_f1 = f1_score(y_test_xgb, xgb_pred, average='weighted')\n",
    "\n",
    "print(f\"XGBoost → Accuracy: {xgb_acc:.4f}, Weighted F1: {xgb_f1:.4f}\")"
   ]
  },
  {
   "cell_type": "code",
   "execution_count": 46,
   "id": "c1f28e62-bea5-4179-8f61-2aaab72afab0",
   "metadata": {},
   "outputs": [
    {
     "name": "stdout",
     "output_type": "stream",
     "text": [
      "Random Model → Accuracy: 0.2394, Weighted F1: 0.2369\n"
     ]
    }
   ],
   "source": [
    "rng = np.random.RandomState(0)\n",
    "class_prior = np.bincount(y_train) / len(y_train)\n",
    "rand_probs = rng.multinomial(1, class_prior, size=X_test.shape[0])\n",
    "rand_preds = rand_probs.argmax(axis=1)\n",
    "\n",
    "rand_acc = accuracy_score(y_test, rand_preds)\n",
    "rand_f1 = f1_score(y_test, rand_preds, average='weighted')\n",
    "\n",
    "print(f\"Random Model → Accuracy: {rand_acc:.4f}, Weighted F1: {rand_f1:.4f}\")"
   ]
  },
  {
   "cell_type": "code",
   "execution_count": 47,
   "id": "4f6024b2-9981-4ae2-bb82-18272530592f",
   "metadata": {},
   "outputs": [
    {
     "data": {
      "text/html": [
       "<div>\n",
       "<style scoped>\n",
       "    .dataframe tbody tr th:only-of-type {\n",
       "        vertical-align: middle;\n",
       "    }\n",
       "\n",
       "    .dataframe tbody tr th {\n",
       "        vertical-align: top;\n",
       "    }\n",
       "\n",
       "    .dataframe thead th {\n",
       "        text-align: right;\n",
       "    }\n",
       "</style>\n",
       "<table border=\"1\" class=\"dataframe\">\n",
       "  <thead>\n",
       "    <tr style=\"text-align: right;\">\n",
       "      <th></th>\n",
       "      <th>Model</th>\n",
       "      <th>Accuracy</th>\n",
       "      <th>F1_weighted</th>\n",
       "    </tr>\n",
       "  </thead>\n",
       "  <tbody>\n",
       "    <tr>\n",
       "      <th>0</th>\n",
       "      <td>RandomForest</td>\n",
       "      <td>0.935877</td>\n",
       "      <td>0.934602</td>\n",
       "    </tr>\n",
       "    <tr>\n",
       "      <th>1</th>\n",
       "      <td>XGBoost</td>\n",
       "      <td>0.934253</td>\n",
       "      <td>0.933152</td>\n",
       "    </tr>\n",
       "    <tr>\n",
       "      <th>2</th>\n",
       "      <td>RandomModel</td>\n",
       "      <td>0.239448</td>\n",
       "      <td>0.236918</td>\n",
       "    </tr>\n",
       "  </tbody>\n",
       "</table>\n",
       "</div>"
      ],
      "text/plain": [
       "          Model  Accuracy  F1_weighted\n",
       "0  RandomForest  0.935877     0.934602\n",
       "1       XGBoost  0.934253     0.933152\n",
       "2   RandomModel  0.239448     0.236918"
      ]
     },
     "execution_count": 47,
     "metadata": {},
     "output_type": "execute_result"
    }
   ],
   "source": [
    "extra_df = pd.DataFrame({\n",
    "    \"Model\": [\"RandomForest\", \"XGBoost\", \"RandomModel\"],\n",
    "    \"Accuracy\": [rf_acc, xgb_acc, rand_acc],\n",
    "    \"F1_weighted\": [rf_f1, xgb_f1, rand_f1]\n",
    "})\n",
    "\n",
    "extra_df = extra_df.sort_values(by=\"F1_weighted\", ascending=False).reset_index(drop=True)\n",
    "extra_df"
   ]
  },
  {
   "cell_type": "markdown",
   "id": "904a4d3d-5ad1-4eda-a734-706da672f3d5",
   "metadata": {},
   "source": [
    "### Observations and Interpretation\n",
    "\n",
    "Random Forest achieved the highest accuracy (0.936) and weighted F1-score (0.935), closely followed by XGBoost (≈0.934).  \n",
    "Both ensemble models show strong, stable performance, indicating that tree-based methods capture non-linear relationships effectively in this dataset.  \n",
    "The Random Model performs much worse, as expected, since it predicts classes purely based on prior probabilities without learning from data.  \n",
    "\n",
    "**Best Model:** Random Forest, offering a slightly better balance of precision and recall compared to XGBoost.\n"
   ]
  },
  {
   "cell_type": "code",
   "execution_count": null,
   "id": "ddcf26dd-89a2-4f0c-8ba6-83b76b26c219",
   "metadata": {},
   "outputs": [],
   "source": []
  }
 ],
 "metadata": {
  "kernelspec": {
   "display_name": "Python 3 (ipykernel)",
   "language": "python",
   "name": "python3"
  },
  "language_info": {
   "codemirror_mode": {
    "name": "ipython",
    "version": 3
   },
   "file_extension": ".py",
   "mimetype": "text/x-python",
   "name": "python",
   "nbconvert_exporter": "python",
   "pygments_lexer": "ipython3",
   "version": "3.12.3"
  }
 },
 "nbformat": 4,
 "nbformat_minor": 5
}
